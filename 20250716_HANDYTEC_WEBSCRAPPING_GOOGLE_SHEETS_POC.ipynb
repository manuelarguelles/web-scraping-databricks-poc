{
 "cells": [
  {
   "cell_type": "markdown",
   "metadata": {
    "application/vnd.databricks.v1+cell": {
     "cellMetadata": {},
     "inputWidgets": {},
     "nuid": "ab2a0a77-240b-4af8-9489-2a2afb91f28a",
     "showTitle": false,
     "tableResultSettingsMap": {},
     "title": ""
    }
   },
   "source": [
    "**Instalar Librería**"
   ]
  },
  {
   "cell_type": "code",
   "execution_count": 0,
   "metadata": {
    "application/vnd.databricks.v1+cell": {
     "cellMetadata": {},
     "inputWidgets": {},
     "nuid": "1085b7e6-7227-49a2-be09-141e4fd7b11b",
     "showTitle": false,
     "tableResultSettingsMap": {},
     "title": ""
    }
   },
   "outputs": [],
   "source": [
    "#%pip install requests beautifulsoup4"
   ]
  },
  {
   "cell_type": "markdown",
   "metadata": {
    "application/vnd.databricks.v1+cell": {
     "cellMetadata": {},
     "inputWidgets": {},
     "nuid": "ac316e40-2daa-4318-b79d-208e6e9a9058",
     "showTitle": false,
     "tableResultSettingsMap": {},
     "title": ""
    }
   },
   "source": [
    "**Scrapping**"
   ]
  },
  {
   "cell_type": "code",
   "execution_count": 0,
   "metadata": {
    "application/vnd.databricks.v1+cell": {
     "cellMetadata": {
      "byteLimit": 2048000,
      "rowLimit": 10000
     },
     "inputWidgets": {},
     "nuid": "96d28852-22bc-4e10-abfb-328f8c0f99e3",
     "showTitle": false,
     "tableResultSettingsMap": {},
     "title": ""
    }
   },
   "outputs": [
    {
     "output_type": "display_data",
     "data": {
      "text/html": [
       "<style scoped>\n",
       "  .table-result-container {\n",
       "    max-height: 300px;\n",
       "    overflow: auto;\n",
       "  }\n",
       "  table, th, td {\n",
       "    border: 1px solid black;\n",
       "    border-collapse: collapse;\n",
       "  }\n",
       "  th, td {\n",
       "    padding: 5px;\n",
       "  }\n",
       "  th {\n",
       "    text-align: left;\n",
       "  }\n",
       "</style><div class='table-result-container'><table class='table-result'><thead style='background-color: white'><tr><th></th><th></th><th></th></tr></thead><tbody><tr><td>1</td><td>Pais</td><td>Abrev</td></tr><tr><td>2</td><td>Perú</td><td>PE</td></tr><tr><td>3</td><td>Ecuador</td><td>EC</td></tr><tr><td>4</td><td>Colombia</td><td>CO</td></tr><tr><td>5</td><td>Bolivia</td><td>BO</td></tr></tbody></table></div>"
      ]
     },
     "metadata": {
      "application/vnd.databricks.v1+output": {
       "addedWidgets": {},
       "aggData": [],
       "aggError": "",
       "aggOverflow": false,
       "aggSchema": [],
       "aggSeriesLimitReached": false,
       "aggType": "",
       "arguments": {},
       "columnCustomDisplayInfos": {},
       "data": [
        [
         "1",
         "Pais",
         "Abrev"
        ],
        [
         "2",
         "Perú",
         "PE"
        ],
        [
         "3",
         "Ecuador",
         "EC"
        ],
        [
         "4",
         "Colombia",
         "CO"
        ],
        [
         "5",
         "Bolivia",
         "BO"
        ]
       ],
       "datasetInfos": [],
       "dbfsResultPath": null,
       "isJsonSchema": true,
       "metadata": {},
       "overflow": false,
       "plotOptions": {
        "customPlotOptions": {},
        "displayType": "table",
        "pivotAggregation": null,
        "pivotColumns": null,
        "xColumns": null,
        "yColumns": null
       },
       "removedWidgets": [],
       "schema": [
        {
         "metadata": "{}",
         "name": "",
         "type": "\"string\""
        },
        {
         "metadata": "{}",
         "name": "",
         "type": "\"string\""
        },
        {
         "metadata": "{}",
         "name": "",
         "type": "\"string\""
        }
       ],
       "type": "table"
      }
     },
     "output_type": "display_data"
    }
   ],
   "source": [
    "import requests\n",
    "from bs4 import BeautifulSoup\n",
    "\n",
    "# URL pública publicada como HTML\n",
    "url = \"https://docs.google.com/spreadsheets/d/e/2PACX-1vQzWjN8VvkgwCAffEnVvtt-otYKC3NCUKmWtC47CmKc-r9TJKjNfnkacij9C2wE_A/pubhtml\"\n",
    "\n",
    "# Obtener contenido HTML\n",
    "response = requests.get(url)\n",
    "soup = BeautifulSoup(response.text, \"html.parser\")\n",
    "\n",
    "# Buscar tabla principal\n",
    "tabla = soup.find(\"table\")\n",
    "\n",
    "# Extraer filas\n",
    "filas = tabla.find_all(\"tr\")\n",
    "datos = []\n",
    "\n",
    "for fila in filas:\n",
    "    celdas = fila.find_all([\"th\", \"td\"])\n",
    "    texto = [celda.text.strip() for celda in celdas]\n",
    "    if texto:\n",
    "        datos.append(texto)\n",
    "\n",
    "# Separar encabezado y contenido\n",
    "headers = datos[0]\n",
    "filas_datos = datos[1:]\n",
    "\n",
    "# Crear DataFrame de Spark\n",
    "df = spark.createDataFrame(filas_datos, headers)\n",
    "\n",
    "# Mostrar\n",
    "display(df)"
   ]
  }
 ],
 "metadata": {
  "application/vnd.databricks.v1+notebook": {
   "computePreferences": null,
   "dashboards": [],
   "environmentMetadata": {
    "base_environment": "",
    "environment_version": "2"
   },
   "inputWidgetPreferences": null,
   "language": "python",
   "notebookMetadata": {
    "pythonIndentUnit": 4
   },
   "notebookName": "20250716_HANDYTEC_WEBSCRAPPING_GOOGLE_SHEETS_POC",
   "widgets": {}
  },
  "language_info": {
   "name": "python"
  }
 },
 "nbformat": 4,
 "nbformat_minor": 0
}
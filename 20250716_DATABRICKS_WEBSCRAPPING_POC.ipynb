{
 "cells": [
  {
   "cell_type": "code",
   "execution_count": 0,
   "metadata": {
    "application/vnd.databricks.v1+cell": {
     "cellMetadata": {
      "byteLimit": 2048000,
      "rowLimit": 10000
     },
     "inputWidgets": {},
     "nuid": "da122e95-1248-4b8d-a5cd-0f7d15cd1189",
     "showTitle": false,
     "tableResultSettingsMap": {},
     "title": ""
    }
   },
   "outputs": [
    {
     "output_type": "stream",
     "name": "stdout",
     "output_type": "stream",
     "text": [
      "Requirement already satisfied: requests in /databricks/python3/lib/python3.12/site-packages (2.32.3)\nRequirement already satisfied: beautifulsoup4 in /databricks/python3/lib/python3.12/site-packages (4.12.3)\nRequirement already satisfied: charset-normalizer<4,>=2 in /databricks/python3/lib/python3.12/site-packages (from requests) (3.3.2)\nRequirement already satisfied: idna<4,>=2.5 in /databricks/python3/lib/python3.12/site-packages (from requests) (3.7)\nRequirement already satisfied: urllib3<3,>=1.21.1 in /databricks/python3/lib/python3.12/site-packages (from requests) (2.3.0)\nRequirement already satisfied: certifi>=2017.4.17 in /databricks/python3/lib/python3.12/site-packages (from requests) (2025.1.31)\nRequirement already satisfied: soupsieve>1.2 in /databricks/python3/lib/python3.12/site-packages (from beautifulsoup4) (2.5)\n\u001B[43mNote: you may need to restart the kernel using %restart_python or dbutils.library.restartPython() to use updated packages.\u001B[0m\n"
     ]
    }
   ],
   "source": [
    "%pip install requests beautifulsoup4"
   ]
  },
  {
   "cell_type": "code",
   "execution_count": 0,
   "metadata": {
    "application/vnd.databricks.v1+cell": {
     "cellMetadata": {
      "byteLimit": 2048000,
      "rowLimit": 10000
     },
     "inputWidgets": {},
     "nuid": "d12354dd-096e-4138-8d85-c9e33de36046",
     "showTitle": false,
     "tableResultSettingsMap": {},
     "title": ""
    }
   },
   "outputs": [
    {
     "output_type": "stream",
     "name": "stdout",
     "output_type": "stream",
     "text": [
      "1. “The world as we have created it is a process of our thinking. It cannot be changed without changing our thinking.”\n2. “It is our choices, Harry, that show what we truly are, far more than our abilities.”\n3. “There are only two ways to live your life. One is as though nothing is a miracle. The other is as though everything is a miracle.”\n4. “The person, be it gentleman or lady, who has not pleasure in a good novel, must be intolerably stupid.”\n5. “Imperfection is beauty, madness is genius and it's better to be absolutely ridiculous than absolutely boring.”\n6. “Try not to become a man of success. Rather become a man of value.”\n7. “It is better to be hated for what you are than to be loved for what you are not.”\n8. “I have not failed. I've just found 10,000 ways that won't work.”\n9. “A woman is like a tea bag; you never know how strong it is until it's in hot water.”\n10. “A day without sunshine is like, you know, night.”\n"
     ]
    }
   ],
   "source": [
    "import requests\n",
    "from bs4 import BeautifulSoup\n",
    "\n",
    "# URL pública para pruebas de scraping\n",
    "url = \"https://quotes.toscrape.com\"\n",
    "\n",
    "# Obtener contenido HTML\n",
    "response = requests.get(url)\n",
    "response.raise_for_status()\n",
    "\n",
    "# Parsear con BeautifulSoup\n",
    "soup = BeautifulSoup(response.text, 'html.parser')\n",
    "\n",
    "# Extraer citas (quotes)\n",
    "quotes = soup.find_all(\"span\", class_=\"text\")\n",
    "\n",
    "# Mostrar resultados\n",
    "for i, quote in enumerate(quotes, 1):\n",
    "    print(f\"{i}. {quote.text}\")"
   ]
  },
  {
   "cell_type": "code",
   "execution_count": 0,
   "metadata": {
    "application/vnd.databricks.v1+cell": {
     "cellMetadata": {
      "byteLimit": 2048000,
      "rowLimit": 10000
     },
     "inputWidgets": {},
     "nuid": "9f34b2a8-2dfd-42c4-b5e3-cc07ebd57cd6",
     "showTitle": false,
     "tableResultSettingsMap": {},
     "title": ""
    }
   },
   "outputs": [
    {
     "output_type": "display_data",
     "data": {
      "text/html": [
       "<style scoped>\n",
       "  .table-result-container {\n",
       "    max-height: 300px;\n",
       "    overflow: auto;\n",
       "  }\n",
       "  table, th, td {\n",
       "    border: 1px solid black;\n",
       "    border-collapse: collapse;\n",
       "  }\n",
       "  th, td {\n",
       "    padding: 5px;\n",
       "  }\n",
       "  th {\n",
       "    text-align: left;\n",
       "  }\n",
       "</style><div class='table-result-container'><table class='table-result'><thead style='background-color: white'><tr><th>quote</th></tr></thead><tbody><tr><td>“The world as we have created it is a process of our thinking. It cannot be changed without changing our thinking.”</td></tr><tr><td>“It is our choices, Harry, that show what we truly are, far more than our abilities.”</td></tr><tr><td>“There are only two ways to live your life. One is as though nothing is a miracle. The other is as though everything is a miracle.”</td></tr><tr><td>“The person, be it gentleman or lady, who has not pleasure in a good novel, must be intolerably stupid.”</td></tr><tr><td>“Imperfection is beauty, madness is genius and it's better to be absolutely ridiculous than absolutely boring.”</td></tr><tr><td>“Try not to become a man of success. Rather become a man of value.”</td></tr><tr><td>“It is better to be hated for what you are than to be loved for what you are not.”</td></tr><tr><td>“I have not failed. I've just found 10,000 ways that won't work.”</td></tr><tr><td>“A woman is like a tea bag; you never know how strong it is until it's in hot water.”</td></tr><tr><td>“A day without sunshine is like, you know, night.”</td></tr></tbody></table></div>"
      ]
     },
     "metadata": {
      "application/vnd.databricks.v1+output": {
       "addedWidgets": {},
       "aggData": [],
       "aggError": "",
       "aggOverflow": false,
       "aggSchema": [],
       "aggSeriesLimitReached": false,
       "aggType": "",
       "arguments": {},
       "columnCustomDisplayInfos": {},
       "data": [
        [
         "“The world as we have created it is a process of our thinking. It cannot be changed without changing our thinking.”"
        ],
        [
         "“It is our choices, Harry, that show what we truly are, far more than our abilities.”"
        ],
        [
         "“There are only two ways to live your life. One is as though nothing is a miracle. The other is as though everything is a miracle.”"
        ],
        [
         "“The person, be it gentleman or lady, who has not pleasure in a good novel, must be intolerably stupid.”"
        ],
        [
         "“Imperfection is beauty, madness is genius and it's better to be absolutely ridiculous than absolutely boring.”"
        ],
        [
         "“Try not to become a man of success. Rather become a man of value.”"
        ],
        [
         "“It is better to be hated for what you are than to be loved for what you are not.”"
        ],
        [
         "“I have not failed. I've just found 10,000 ways that won't work.”"
        ],
        [
         "“A woman is like a tea bag; you never know how strong it is until it's in hot water.”"
        ],
        [
         "“A day without sunshine is like, you know, night.”"
        ]
       ],
       "datasetInfos": [],
       "dbfsResultPath": null,
       "isJsonSchema": true,
       "metadata": {},
       "overflow": false,
       "plotOptions": {
        "customPlotOptions": {},
        "displayType": "table",
        "pivotAggregation": null,
        "pivotColumns": null,
        "xColumns": null,
        "yColumns": null
       },
       "removedWidgets": [],
       "schema": [
        {
         "metadata": "{}",
         "name": "quote",
         "type": "\"string\""
        }
       ],
       "type": "table"
      }
     },
     "output_type": "display_data"
    }
   ],
   "source": [
    "from pyspark.sql import SparkSession\n",
    "\n",
    "# Crear lista de diccionarios\n",
    "quotes_data = [{\"quote\": q.text} for q in quotes]\n",
    "\n",
    "# Crear DataFrame de Spark\n",
    "df = spark.createDataFrame(quotes_data)\n",
    "\n",
    "# Mostrar en Databricks\n",
    "display(df)"
   ]
  }
 ],
 "metadata": {
  "application/vnd.databricks.v1+notebook": {
   "computePreferences": null,
   "dashboards": [],
   "environmentMetadata": {
    "base_environment": "",
    "environment_version": "2"
   },
   "inputWidgetPreferences": null,
   "language": "python",
   "notebookMetadata": {
    "pythonIndentUnit": 4
   },
   "notebookName": "20250716_HANDYTEC_WEBSCRAPPING_POC",
   "widgets": {}
  },
  "language_info": {
   "name": "python"
  }
 },
 "nbformat": 4,
 "nbformat_minor": 0
}